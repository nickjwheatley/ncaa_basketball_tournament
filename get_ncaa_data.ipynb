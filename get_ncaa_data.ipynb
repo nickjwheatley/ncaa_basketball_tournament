{
 "cells": [
  {
   "cell_type": "code",
   "execution_count": 1,
   "metadata": {},
   "outputs": [
    {
     "name": "stderr",
     "output_type": "stream",
     "text": [
      "C:\\Users\\nwheatle\\AppData\\Local\\Continuum\\anaconda3\\lib\\site-packages\\requests\\__init__.py:91: RequestsDependencyWarning: urllib3 (1.26.8) or chardet (3.0.4) doesn't match a supported version!\n",
      "  RequestsDependencyWarning)\n"
     ]
    }
   ],
   "source": [
    "import pandas as pd\n",
    "import requests\n",
    "from os.path import exists"
   ]
  },
  {
   "cell_type": "code",
   "execution_count": 2,
   "metadata": {},
   "outputs": [],
   "source": [
    "def get_games_won(final_round):\n",
    "    '''Return number of games won given a team\\'s final round. Returns \"TBD\" if in current tournament as the final rounds have not yet been posted'''\n",
    "    games_won = {\n",
    "        'R68':0,'R64':0,'R32':1,'Sweet Sixteen':2,'Elite Eight':3,'Final Four':4,'Finals':5,'CHAMPS':6,'✅':'TBD','❌':'TBD'\n",
    "    }\n",
    "    return games_won[final_round]"
   ]
  },
  {
   "cell_type": "code",
   "execution_count": 3,
   "metadata": {},
   "outputs": [],
   "source": [
    "def get_ncaa_tournament_data(years = [2017,2018,2019,2021],force_download=False):\n",
    "    '''Load NCAA tournament data from barttorvik.com and return a cleaned version\n",
    "    \n",
    "    Parameters\n",
    "    ----------\n",
    "    years : list object [optional]\n",
    "        Pass the season years desired in %Y format (21-22 season would be 2022)\n",
    "    force_download : boolean [optional]\n",
    "        Determines whether pull from website and cache data as \"ncaa_tournament_teams.csv\"\n",
    "        \n",
    "    returns pandas dataframe'''\n",
    "    if exists('ncaa_tournament_teams.csv') & ~force_download:\n",
    "        try:\n",
    "            df = pd.read_csv('ncaa_tournament_teams.csv')\n",
    "        except:\n",
    "            raise OSError('No file \"ncaa_tournament_teams.csv\" found in working directory')\n",
    "    else:\n",
    "        df = pd.DataFrame()\n",
    "        for year in years:\n",
    "            #iterate through passed years\n",
    "            res = requests.get('https://barttorvik.com/trank.php?year={}&sort=&top=0&conlimit=All&venue=All&type=All#'.format(year))\n",
    "            html = pd.read_html(res.content)\n",
    "            this_df = pd.DataFrame(html[0])\n",
    "            \n",
    "            this_df.columns = this_df.columns.droplevel(level=0) #remove top layer of multi-index\n",
    "            \n",
    "            #drop header rows and keep desired coluns\n",
    "            this_df = this_df.loc[this_df['Rk'] != 'Rk'][['Team','Conf','AdjOE','AdjDE']].rename(\n",
    "                columns={'AdjOE':'Offensive Efficiency','AdjDE':'Defensive Efficiency'})\n",
    "            \n",
    "            #convert efficiency columns to numeric values\n",
    "            for col in ['Offensive Efficiency','Defensive Efficiency']:\n",
    "                this_df[col] = pd.to_numeric(this_df[col])\n",
    "                \n",
    "            #calculate total efficiency metric (Offensive / Defensive)\n",
    "            this_df['Total Efficiency'] = this_df['Offensive Efficiency'] / this_df['Defensive Efficiency']\n",
    "\n",
    "            this_df.insert(1,'Seed',this_df['Team'].str.extract('([0-9]+) seed')) #Regex extract Seed from team name\n",
    "            this_df.insert(2,'Final Round',this_df['Team'].str.extract(', (.*)')) #Regex extract Final Round from team name\n",
    "            this_df['Team'] = this_df['Team'].str.extract('(.*) [1-9]') #Regex extract team name from comprehensive team name\n",
    "            this_df.insert(0,'Year',year) #add year column\n",
    "            this_df = this_df.dropna()\n",
    "            this_df.insert(4,'Games Won',list(map(get_games_won,this_df['Final Round']))) #map total games won to each team\n",
    "            df = df.append(this_df).reset_index(drop=True) #append to comprehensive dataframe\n",
    "        df.set_index('Year').to_csv('ncaa_tournament_teams.csv') #cache data\n",
    "    return df"
   ]
  }
 ],
 "metadata": {
  "kernelspec": {
   "display_name": "Python 3",
   "language": "python",
   "name": "python3"
  },
  "language_info": {
   "codemirror_mode": {
    "name": "ipython",
    "version": 3
   },
   "file_extension": ".py",
   "mimetype": "text/x-python",
   "name": "python",
   "nbconvert_exporter": "python",
   "pygments_lexer": "ipython3",
   "version": "3.7.4"
  }
 },
 "nbformat": 4,
 "nbformat_minor": 2
}
