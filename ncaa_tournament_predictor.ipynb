{
 "cells": [
  {
   "cell_type": "markdown",
   "metadata": {},
   "source": [
    "# NCAA Men's Basketball Tournament Predictor\n",
    "\n",
    "## Overview\n",
    "Using exploratory data analysis (see ncaa_tournament_eda.ipynb and 2017_2021_ncaa_tournament_teams.html), it is found that the number of games a team wins is highly correlated with the teams Total Efficiency (Offensive Efficiency / Defensive Efficiency). This notebook predicts the 2022 NCAA Tournament's outcome by selecting teams with the highest Total Efficiency."
   ]
  },
  {
   "cell_type": "code",
   "execution_count": 1,
   "metadata": {},
   "outputs": [
    {
     "name": "stderr",
     "output_type": "stream",
     "text": [
      "C:\\Users\\nwheatle\\AppData\\Local\\Continuum\\anaconda3\\lib\\site-packages\\requests\\__init__.py:91: RequestsDependencyWarning: urllib3 (1.26.8) or chardet (3.0.4) doesn't match a supported version!\n",
      "  RequestsDependencyWarning)\n"
     ]
    }
   ],
   "source": [
    "import pandas as pd\n",
    "import numpy as np\n",
    "from random import randrange\n",
    "import datetime as dt\n",
    "\n",
    "from get_ncaa_data import get_ncaa_tournament_data"
   ]
  },
  {
   "cell_type": "code",
   "execution_count": 2,
   "metadata": {},
   "outputs": [],
   "source": [
    "west = [\n",
    "    'Gonzaga','Georgia State','Boise State','Memphis','UConn','New Mexico State','Arkansas',\n",
    "    'Vermont','Alabama','Notre Dame','Texas Tech','Montana State','Michigan State','Davidson',\n",
    "    'Duke','CSU Fullerton'\n",
    "]\n",
    "east = [\n",
    "    'Baylor','Norfolk State','North Carolina','Marquette','Saint Mary\\'s', 'Indiana','UCLA','Akron',\n",
    "    'Texas','Virginia Tech','Purdue','Yale','Murray State','San Francisco','Kentucky','Saint Peter\\'s'\n",
    "]\n",
    "south = [\n",
    "    'Arizona','Wright State','Seton Hall','TCU','Houston','UAB','Illinois','Chattanooga','Colorado State',\n",
    "    'Michigan','Tennessee','Longwood','Ohio State','Loyola Chicago','Villanova','Delaware'\n",
    "]\n",
    "midwest = [\n",
    "    'Kansas','Texas Southern','San Diego State','Creighton','Iowa','Richmond','Providence',\n",
    "    'South Dakota State','LSU','Iowa State','Wisconsin','Colgate','USC','Miami','Auburn','J\\'Ville State'\n",
    "]\n",
    "\n",
    "all_teams = west+east+south+midwest"
   ]
  },
  {
   "cell_type": "code",
   "execution_count": 5,
   "metadata": {},
   "outputs": [
    {
     "data": {
      "text/html": [
       "<div>\n",
       "<style scoped>\n",
       "    .dataframe tbody tr th:only-of-type {\n",
       "        vertical-align: middle;\n",
       "    }\n",
       "\n",
       "    .dataframe tbody tr th {\n",
       "        vertical-align: top;\n",
       "    }\n",
       "\n",
       "    .dataframe thead th {\n",
       "        text-align: right;\n",
       "    }\n",
       "</style>\n",
       "<table border=\"1\" class=\"dataframe\">\n",
       "  <thead>\n",
       "    <tr style=\"text-align: right;\">\n",
       "      <th></th>\n",
       "      <th>team</th>\n",
       "      <th>win_likelihood</th>\n",
       "    </tr>\n",
       "  </thead>\n",
       "  <tbody>\n",
       "    <tr>\n",
       "      <th>0</th>\n",
       "      <td>Gonzaga</td>\n",
       "      <td>1.000000</td>\n",
       "    </tr>\n",
       "    <tr>\n",
       "      <th>1</th>\n",
       "      <td>Houston</td>\n",
       "      <td>0.974571</td>\n",
       "    </tr>\n",
       "    <tr>\n",
       "      <th>2</th>\n",
       "      <td>Kansas</td>\n",
       "      <td>0.959423</td>\n",
       "    </tr>\n",
       "    <tr>\n",
       "      <th>3</th>\n",
       "      <td>Texas Tech</td>\n",
       "      <td>0.955589</td>\n",
       "    </tr>\n",
       "    <tr>\n",
       "      <th>4</th>\n",
       "      <td>Baylor</td>\n",
       "      <td>0.949177</td>\n",
       "    </tr>\n",
       "  </tbody>\n",
       "</table>\n",
       "</div>"
      ],
      "text/plain": [
       "         team  win_likelihood\n",
       "0     Gonzaga        1.000000\n",
       "1     Houston        0.974571\n",
       "2      Kansas        0.959423\n",
       "3  Texas Tech        0.955589\n",
       "4      Baylor        0.949177"
      ]
     },
     "execution_count": 5,
     "metadata": {},
     "output_type": "execute_result"
    }
   ],
   "source": [
    "year = dt.datetime.now().year\n",
    "df = get_ncaa_tournament_data([year],force_download=True)\n",
    "df = df.rename(columns={\n",
    "    'Offensive Efficiency':'AdjOE','Defensive Efficiency':'AdjDE','Total Efficiency':'AdjTE'})\n",
    "to_replace = {\n",
    "    'Connecticut':'UConn',\n",
    "    'St.':'State',\n",
    "    'Cal State Fullerton':'CSU Fullerton',\n",
    "    'Miami FL':'Miami',\n",
    "    'Jacksonville State':'J\\'Ville State'\n",
    "}\n",
    "\n",
    "for r in to_replace.keys():\n",
    "    df['Team'] = df['Team'].str.replace(r,to_replace[r])\n",
    "\n",
    "df = df.loc[df['Team'].isin(all_teams),[\n",
    "    'Team','AdjTE']].sort_values('AdjTE',ascending=False).reset_index(drop=True)\n",
    "\n",
    "df['AdjTE'] = df['AdjTE'] / df['AdjTE'].max()\n",
    "\n",
    "df.columns = ['team','win_likelihood']\n",
    "df.head()"
   ]
  },
  {
   "cell_type": "code",
   "execution_count": 6,
   "metadata": {},
   "outputs": [],
   "source": [
    "def play_game_random(teams):\n",
    "    return teams[randrange(0,2)]"
   ]
  },
  {
   "cell_type": "code",
   "execution_count": 7,
   "metadata": {},
   "outputs": [],
   "source": [
    "def play_game(teams):\n",
    "    return df.loc[df['team'].isin(teams),['team','win_likelihood']].set_index('team').idxmax()[0]"
   ]
  },
  {
   "cell_type": "code",
   "execution_count": 29,
   "metadata": {},
   "outputs": [],
   "source": [
    "def ncaa_champion(west,east,south,midwest):\n",
    "    rounds_1 = ['R64','R32','Sweet 16','Elite 8']\n",
    "    outcomes = {}\n",
    "    \n",
    "    wests = []\n",
    "    easts = []\n",
    "    souths = []\n",
    "    midwests = []\n",
    "    \n",
    "    wests.append(west)\n",
    "    easts.append(east)\n",
    "    souths.append(south)\n",
    "    midwests.append(midwest)\n",
    "    \n",
    "    final_four = []\n",
    "    final = []\n",
    "    \n",
    "    i = 0\n",
    "    for r in rounds_1:\n",
    "        teams = []\n",
    "        for c in wests,easts,souths,midwests:\n",
    "            teams += c[i]\n",
    "            c.append(list(map(play_game,list(zip(c[i][::2],c[i][1::2])))))\n",
    "        outcomes[rounds_1[i]] = teams\n",
    "        i += 1\n",
    "        \n",
    "    for c in wests,easts,souths,midwests:\n",
    "        final_four.append(c[-1][0])\n",
    "    outcomes['Final Four'] = final_four\n",
    "    \n",
    "    final.append(list(map(play_game,list(zip(final_four[::2],final_four[1::2])))))\n",
    "    outcomes['Final'] = final[0]\n",
    "    \n",
    "    winner = play_game(final[0])\n",
    "    outcomes['Winner'] = [winner]\n",
    "    \n",
    "    return outcomes"
   ]
  },
  {
   "cell_type": "code",
   "execution_count": 47,
   "metadata": {},
   "outputs": [],
   "source": [
    "x = ncaa_champion(west,east,south,midwest)\n",
    "tourney_arr = [list(zip([key]*len(x[key]),x[key])) for key in x.keys()]\n",
    "arr = []\n",
    "for a in tourney_arr:\n",
    "    arr += a"
   ]
  },
  {
   "cell_type": "code",
   "execution_count": 52,
   "metadata": {},
   "outputs": [
    {
     "data": {
      "text/html": [
       "<div>\n",
       "<style scoped>\n",
       "    .dataframe tbody tr th:only-of-type {\n",
       "        vertical-align: middle;\n",
       "    }\n",
       "\n",
       "    .dataframe tbody tr th {\n",
       "        vertical-align: top;\n",
       "    }\n",
       "\n",
       "    .dataframe thead th {\n",
       "        text-align: right;\n",
       "    }\n",
       "</style>\n",
       "<table border=\"1\" class=\"dataframe\">\n",
       "  <thead>\n",
       "    <tr style=\"text-align: right;\">\n",
       "      <th></th>\n",
       "      <th>tournament_round</th>\n",
       "      <th>predicted_team</th>\n",
       "    </tr>\n",
       "  </thead>\n",
       "  <tbody>\n",
       "    <tr>\n",
       "      <th>0</th>\n",
       "      <td>R64</td>\n",
       "      <td>Gonzaga</td>\n",
       "    </tr>\n",
       "    <tr>\n",
       "      <th>1</th>\n",
       "      <td>R64</td>\n",
       "      <td>Georgia State</td>\n",
       "    </tr>\n",
       "    <tr>\n",
       "      <th>2</th>\n",
       "      <td>R64</td>\n",
       "      <td>Boise State</td>\n",
       "    </tr>\n",
       "    <tr>\n",
       "      <th>3</th>\n",
       "      <td>R64</td>\n",
       "      <td>Memphis</td>\n",
       "    </tr>\n",
       "    <tr>\n",
       "      <th>4</th>\n",
       "      <td>R64</td>\n",
       "      <td>UConn</td>\n",
       "    </tr>\n",
       "  </tbody>\n",
       "</table>\n",
       "</div>"
      ],
      "text/plain": [
       "  tournament_round predicted_team\n",
       "0              R64        Gonzaga\n",
       "1              R64  Georgia State\n",
       "2              R64    Boise State\n",
       "3              R64        Memphis\n",
       "4              R64          UConn"
      ]
     },
     "execution_count": 52,
     "metadata": {},
     "output_type": "execute_result"
    }
   ],
   "source": [
    "tournament_prediction = pd.DataFrame(arr,columns=['tournament_round','predicted_team'])\n",
    "tournament_prediction.to_csv('{}_ncaa_tournament_prediction.csv'.format(year))\n",
    "tournament_prediction.head()"
   ]
  }
 ],
 "metadata": {
  "kernelspec": {
   "display_name": "Python 3",
   "language": "python",
   "name": "python3"
  },
  "language_info": {
   "codemirror_mode": {
    "name": "ipython",
    "version": 3
   },
   "file_extension": ".py",
   "mimetype": "text/x-python",
   "name": "python",
   "nbconvert_exporter": "python",
   "pygments_lexer": "ipython3",
   "version": "3.7.4"
  }
 },
 "nbformat": 4,
 "nbformat_minor": 2
}
